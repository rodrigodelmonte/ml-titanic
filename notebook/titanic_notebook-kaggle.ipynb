{
 "cells": [
  {
   "cell_type": "markdown",
   "metadata": {},
   "source": [
    "# Titanic"
   ]
  },
  {
   "cell_type": "markdown",
   "metadata": {},
   "source": [
    "## 0 - Collect"
   ]
  },
  {
   "cell_type": "markdown",
   "metadata": {},
   "source": [
    "The Titanic dataset can be download in the [kaggle website](https://www.kaggle.com/c/titanic/data)"
   ]
  },
  {
   "cell_type": "markdown",
   "metadata": {},
   "source": [
    "## 1 - Prepare"
   ]
  },
  {
   "cell_type": "code",
   "execution_count": 1,
   "metadata": {},
   "outputs": [],
   "source": [
    "import pandas as pd\n",
    "\n",
    "train = pd.read_csv('./titanic_train.csv')\n",
    "test = pd.read_csv('./titanic_test.csv')"
   ]
  },
  {
   "cell_type": "markdown",
   "metadata": {},
   "source": [
    "## 3 - Selection"
   ]
  },
  {
   "cell_type": "code",
   "execution_count": 2,
   "metadata": {},
   "outputs": [],
   "source": [
    "train = pd.get_dummies(train, columns=['Sex'])\n",
    "\n",
    "feature_cols = ['Pclass', 'Age', 'Sex_female', 'Sex_male', 'SibSp', 'Parch', 'Fare']\n",
    "\n",
    "X = train[feature_cols].fillna(-1)\n",
    "y = train.Survived"
   ]
  },
  {
   "cell_type": "markdown",
   "metadata": {},
   "source": [
    "## 4 - Training"
   ]
  },
  {
   "cell_type": "code",
   "execution_count": 3,
   "metadata": {},
   "outputs": [
    {
     "name": "stdout",
     "output_type": "stream",
     "text": [
      "(445, 7) (446, 7) (445,) (446,)\n"
     ]
    }
   ],
   "source": [
    "from sklearn.model_selection import train_test_split\n",
    "\n",
    "X_train, X_test, y_train, y_test = train_test_split(X, y, test_size=0.50, random_state=0)\n",
    "\n",
    "print(X_train.shape, X_test.shape, y_train.shape, y_test.shape)"
   ]
  },
  {
   "cell_type": "code",
   "execution_count": 4,
   "metadata": {},
   "outputs": [
    {
     "name": "stdout",
     "output_type": "stream",
     "text": [
      "mean: 0.8033632286995516\n"
     ]
    }
   ],
   "source": [
    "import numpy as np\n",
    "from sklearn.ensemble import RandomForestClassifier\n",
    "from sklearn.model_selection import RepeatedKFold\n",
    "\n",
    "result = []\n",
    "\n",
    "kf = RepeatedKFold(n_splits=2, n_repeats=10, random_state=10)\n",
    "\n",
    "for line_train, line_valid in kf.split(X):\n",
    "\n",
    "    X_train, X_valid = X.iloc[line_train], X.iloc[line_valid]\n",
    "    y_train, y_valid = y.iloc[line_train], y.iloc[line_valid]\n",
    "\n",
    "    rfc = RandomForestClassifier(n_estimators=100, n_jobs=1, random_state=0)\n",
    "    rfc.fit(X_train,y_train)\n",
    "    rfc_y_pred_target = rfc.predict(X_valid)\n",
    "\n",
    "    acc = np.mean(y_valid == rfc_y_pred_target)\n",
    "    result.append(acc)\n",
    "\n",
    "print(\"mean:\", np.mean(result))"
   ]
  },
  {
   "cell_type": "markdown",
   "metadata": {},
   "source": [
    "before mean: 0.785294117647059"
   ]
  },
  {
   "cell_type": "code",
   "execution_count": 10,
   "metadata": {},
   "outputs": [
    {
     "name": "stdout",
     "output_type": "stream",
     "text": [
      "Populating the interactive namespace from numpy and matplotlib\n"
     ]
    },
    {
     "data": {
      "text/plain": [
       "(array([3., 0., 0., 3., 2., 4., 4., 0., 2., 2.]),\n",
       " array([0.75630252, 0.76358543, 0.77086835, 0.77815126, 0.78543417,\n",
       "        0.79271709, 0.8       , 0.80728291, 0.81456583, 0.82184874,\n",
       "        0.82913165]),\n",
       " <a list of 10 Patch objects>)"
      ]
     },
     "execution_count": 10,
     "metadata": {},
     "output_type": "execute_result"
    },
    {
     "data": {
      "image/png": "[encoded data removed]",
      "text/plain": [
       "<Figure size 432x288 with 1 Axes>"
      ]
     },
     "metadata": {
      "needs_background": "light"
     },
     "output_type": "display_data"
    }
   ],
   "source": [
    "%matplotlib inline\n",
    "%pylab inline\n",
    "pylab.hist(result)"
   ]
  },
  {
   "cell_type": "code",
   "execution_count": 8,
   "metadata": {},
   "outputs": [],
   "source": [
    "from sklearn.linear_model import LogisticRegression\n",
    "\n",
    "logreg = LogisticRegression(solver='liblinear')\n",
    "logreg.fit(X_train,y_train)\n",
    "logreg_y_pred_target = logreg.predict(X_test)"
   ]
  },
  {
   "cell_type": "code",
   "execution_count": 9,
   "metadata": {},
   "outputs": [],
   "source": [
    "from sklearn.ensemble import RandomForestClassifier\n",
    "\n",
    "rfc = RandomForestClassifier(n_estimators=100)\n",
    "rfc.fit(X_train,y_train)\n",
    "rfc_y_pred_target = rfc.predict(X_test)"
   ]
  },
  {
   "cell_type": "markdown",
   "metadata": {},
   "source": [
    "## 5 - Evaluation"
   ]
  },
  {
   "cell_type": "code",
   "execution_count": 61,
   "metadata": {},
   "outputs": [
    {
     "name": "stdout",
     "output_type": "stream",
     "text": [
      "logreg: {'accuracy': '0.78', 'precision': '0.71', 'recall': '0.69'}\n",
      "rfc: {'accuracy': '0.90', 'precision': '0.87', 'recall': '0.84'}\n"
     ]
    }
   ],
   "source": [
    "from sklearn import metrics\n",
    "\n",
    "def evaluate(y_test, y_pred_target):\n",
    "    \"\"\"\n",
    "    accuracy = y_test == y_pred_target\n",
    "    precision =  tp / (tp + fp) or ratio False Positive as Positive\n",
    "    recall =  tp / (tp + fn) or ratio all the positive samples\n",
    "    \"\"\"\n",
    "\n",
    "    acc = metrics.accuracy_score(y_test, y_pred_target)\n",
    "    pre = metrics.precision_score(y_test, y_pred_target)\n",
    "    rec = metrics.recall_score(y_test, y_pred_target)\n",
    "    \n",
    "    return dict(\n",
    "        accuracy=f\"{acc:.2f}\", precision=f\"{pre:.2f}\", recall=f\"{rec:.2f}\"\n",
    "    )\n",
    "\n",
    "print('logreg:', evaluate(y_test, logreg_y_pred_target))\n",
    "print('rfc:', evaluate(y_test, rfc_y_pred_target))"
   ]
  },
  {
   "cell_type": "markdown",
   "metadata": {},
   "source": [
    "## 6 - Subimit"
   ]
  },
  {
   "cell_type": "code",
   "execution_count": 162,
   "metadata": {},
   "outputs": [],
   "source": [
    "test = pd.read_csv('./titanic_test.csv')\n",
    "test = pd.get_dummies(test, columns=['Sex'])\n",
    "\n",
    "feature_cols = ['Pclass', 'Age', 'Sex_female', 'Sex_male', 'SibSp', 'Parch', 'Fare']\n",
    "\n",
    "X = test[feature_cols].fillna(-1)\n",
    "\n",
    "y = logreg.predict(X)\n",
    "\n",
    "sub = pd.Series(y, index=test['PassengerId'], name='Survived')\n",
    "sub.to_csv('first_model_lgr.csv', header=True)"
   ]
  },
  {
   "cell_type": "code",
   "execution_count": 163,
   "metadata": {},
   "outputs": [
    {
     "name": "stdout",
     "output_type": "stream",
     "text": [
      "PassengerId,Survived\n",
      "892,0\n",
      "893,0\n",
      "894,1\n",
      "895,1\n",
      "896,0\n",
      "897,0\n",
      "898,0\n",
      "899,0\n",
      "900,1\n"
     ]
    }
   ],
   "source": [
    "!head -n 10 first_model.csv"
   ]
  }
 ],
 "metadata": {
  "kernelspec": {
   "display_name": "Python 3",
   "language": "python",
   "name": "python3"
  },
  "language_info": {
   "codemirror_mode": {
    "name": "ipython",
    "version": 3
   },
   "file_extension": ".py",
   "mimetype": "text/x-python",
   "name": "python",
   "nbconvert_exporter": "python",
   "pygments_lexer": "ipython3",
   "version": "3.7.5"
  }
 },
 "nbformat": 4,
 "nbformat_minor": 4
}
